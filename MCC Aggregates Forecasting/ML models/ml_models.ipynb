{
 "cells": [
  {
   "cell_type": "markdown",
   "metadata": {
    "id": "Of_eehhT1T_4"
   },
   "source": [
    "# ML Models for MCC Aggregates Forecasting\n",
    "CatBoost model with colab compatibility and per-category metrics\n"
   ]
  },
  {
   "cell_type": "code",
   "execution_count": 6,
   "metadata": {
    "executionInfo": {
     "elapsed": 1895,
     "status": "ok",
     "timestamp": 1748888479417,
     "user": {
      "displayName": "V L",
      "userId": "06129047709976680873"
     },
     "user_tz": -180
    },
    "id": "SW290X7l1a4h"
   },
   "outputs": [],
   "source": [
    "!pip install catboost -q"
   ]
  },
  {
   "cell_type": "code",
   "execution_count": 7,
   "metadata": {
    "colab": {
     "base_uri": "https://localhost:8080/"
    },
    "executionInfo": {
     "elapsed": 1876,
     "status": "ok",
     "timestamp": 1748888481294,
     "user": {
      "displayName": "V L",
      "userId": "06129047709976680873"
     },
     "user_tz": -180
    },
    "id": "sG9wWmUB1T_-",
    "outputId": "b7a7c014-37ae-4491-e6dc-0b4a965c3a1f"
   },
   "outputs": [
    {
     "name": "stdout",
     "output_type": "stream",
     "text": [
      "Running in Google Colab\n",
      "✓ CatBoost installed\n"
     ]
    }
   ],
   "source": [
    "# colab setup\n",
    "try:\n",
    "    import google.colab\n",
    "    print(\"Running in Google Colab\")\n",
    "    import subprocess\n",
    "    import sys\n",
    "    subprocess.check_call([sys.executable, '-m', 'pip', 'install', 'catboost', '-q'])\n",
    "    print(\"✓ CatBoost installed\")\n",
    "except ImportError:\n",
    "    print(\"Running in local environment\")\n"
   ]
  },
  {
   "cell_type": "code",
   "execution_count": 8,
   "metadata": {
    "colab": {
     "base_uri": "https://localhost:8080/"
    },
    "executionInfo": {
     "elapsed": 43,
     "status": "ok",
     "timestamp": 1748888481345,
     "user": {
      "displayName": "V L",
      "userId": "06129047709976680873"
     },
     "user_tz": -180
    },
    "id": "FBLmGmjI1UAQ",
    "outputId": "1a1254bc-7af4-472f-d412-9a77bca67a33"
   },
   "outputs": [
    {
     "name": "stdout",
     "output_type": "stream",
     "text": [
      "Loading ML features dataset...\n"
     ]
    }
   ],
   "source": [
    "# imports\n",
    "import pandas as pd\n",
    "import numpy as np\n",
    "import json\n",
    "from datetime import datetime\n",
    "from sklearn.model_selection import TimeSeriesSplit, GridSearchCV\n",
    "from catboost import CatBoostRegressor\n",
    "import warnings\n",
    "warnings.filterwarnings('ignore')\n",
    "\n",
    "print(\"Loading ML features dataset...\")\n"
   ]
  },
  {
   "cell_type": "code",
   "execution_count": 9,
   "metadata": {
    "colab": {
     "base_uri": "https://localhost:8080/"
    },
    "executionInfo": {
     "elapsed": 1517,
     "status": "ok",
     "timestamp": 1748888482866,
     "user": {
      "displayName": "V L",
      "userId": "06129047709976680873"
     },
     "user_tz": -180
    },
    "id": "W0ywknUf1UAR",
    "outputId": "7883b92b-8dc2-40aa-96ed-b51e211884ed"
   },
   "outputs": [
    {
     "name": "stdout",
     "output_type": "stream",
     "text": [
      "Drive already mounted at /content/drive/; to attempt to forcibly remount, call drive.mount(\"/content/drive/\", force_remount=True).\n",
      "Environment: colab\n",
      "Base path: /content/drive/MyDrive/fcst/\n"
     ]
    }
   ],
   "source": [
    "# Environment setup\n",
    "def detect_environment():\n",
    "    try:\n",
    "        import google.colab\n",
    "        from google.colab import drive\n",
    "        drive.mount('/content/drive/')\n",
    "        return 'colab', '/content/drive/MyDrive/fcst/'\n",
    "    except ImportError:\n",
    "        return 'local', '..'\n",
    "\n",
    "environment, base_path = detect_environment()\n",
    "print(f\"Environment: {environment}\")\n",
    "print(f\"Base path: {base_path}\")\n",
    "import sys\n",
    "sys.path.append(base_path+'MCC Aggregates Forecasting')\n",
    "from evaluation import evaluate_and_report_mcc, evaluate_mcc_forecasting\n"
   ]
  },
  {
   "cell_type": "code",
   "execution_count": 10,
   "metadata": {
    "colab": {
     "base_uri": "https://localhost:8080/"
    },
    "executionInfo": {
     "elapsed": 742,
     "status": "ok",
     "timestamp": 1748888483611,
     "user": {
      "displayName": "V L",
      "userId": "06129047709976680873"
     },
     "user_tz": -180
    },
    "id": "Tj-h6LBq1UAb",
    "outputId": "81263864-bed4-45ec-bfb3-729da0b96ea1"
   },
   "outputs": [
    {
     "name": "stdout",
     "output_type": "stream",
     "text": [
      "✓ Loaded parquet files\n",
      "Train shape: (1836701, 72)\n",
      "Test shape: (462255, 72)\n"
     ]
    }
   ],
   "source": [
    "# load data\n",
    "train_parquet = f'{base_path}/data/features/ml_train.parquet'\n",
    "test_parquet = f'{base_path}/data/features/ml_test.parquet'\n",
    "\n",
    "# Try parquet first, fallback to CSV\n",
    "try:\n",
    "    train_df = pd.read_parquet(train_parquet)\n",
    "    test_df = pd.read_parquet(test_parquet)\n",
    "    print(\"✓ Loaded parquet files\")\n",
    "except:\n",
    "    try:\n",
    "        train_df = pd.read_csv(f'{base_path}/data/features/ml_train.csv')\n",
    "        test_df = pd.read_csv(f'{base_path}/data/features/ml_test.csv')\n",
    "        print(\"✓ Loaded CSV files\")\n",
    "    except:\n",
    "        print(\"❌ Could not load ML feature files\")\n",
    "        print(\"Please run feature_engineering_final.py first to create the ML features\")\n",
    "        exit()\n",
    "\n",
    "train_df['date'] = pd.to_datetime(train_df['date'])\n",
    "test_df['date'] = pd.to_datetime(test_df['date'])\n",
    "\n",
    "print(f\"Train shape: {train_df.shape}\")\n",
    "print(f\"Test shape: {test_df.shape}\")\n"
   ]
  },
  {
   "cell_type": "code",
   "execution_count": 11,
   "metadata": {
    "colab": {
     "base_uri": "https://localhost:8080/"
    },
    "executionInfo": {
     "elapsed": 1262,
     "status": "ok",
     "timestamp": 1748888484885,
     "user": {
      "displayName": "V L",
      "userId": "06129047709976680873"
     },
     "user_tz": -180
    },
    "id": "noa90lwd1UAc",
    "outputId": "6decaf97-522a-44a7-91fb-cdc22ac06192"
   },
   "outputs": [
    {
     "name": "stdout",
     "output_type": "stream",
     "text": [
      "Number of features: 60\n",
      "Train set: (1523349, 60), Test set: (462255, 60)\n"
     ]
    }
   ],
   "source": [
    "# prepare features\n",
    "exclude_cols = ['client_id', 'category', 'date', 'amount', 'log_amount', 'sqrt_amount',\n",
    "                'target', 'target_log', 'target_sqrt', 'split', 'week', 'address']\n",
    "feature_cols = [col for col in train_df.columns if col not in exclude_cols]\n",
    "\n",
    "# Handle categorical features (only gender needs encoding)\n",
    "if 'gender' in feature_cols:\n",
    "    from sklearn.preprocessing import LabelEncoder\n",
    "    le = LabelEncoder()\n",
    "    train_df = train_df.copy()\n",
    "    test_df = test_df.copy()\n",
    "    train_df['gender'] = le.fit_transform(train_df['gender'].astype(str))\n",
    "    test_df['gender'] = le.transform(test_df['gender'].astype(str))\n",
    "\n",
    "print(f\"Number of features: {len(feature_cols)}\")\n",
    "\n",
    "# Remove NaN values and prepare data\n",
    "train_df = train_df.dropna(subset=feature_cols + ['amount'])\n",
    "test_df = test_df.dropna(subset=feature_cols + ['amount'])\n",
    "\n",
    "X_train = train_df[feature_cols]\n",
    "y_train = train_df['amount']\n",
    "X_test = test_df[feature_cols]\n",
    "y_test = test_df['amount']\n",
    "\n",
    "print(f\"Train set: {X_train.shape}, Test set: {X_test.shape}\")\n"
   ]
  },
  {
   "cell_type": "code",
   "execution_count": 12,
   "metadata": {
    "colab": {
     "base_uri": "https://localhost:8080/"
    },
    "executionInfo": {
     "elapsed": 160946,
     "status": "ok",
     "timestamp": 1748888645840,
     "user": {
      "displayName": "V L",
      "userId": "06129047709976680873"
     },
     "user_tz": -180
    },
    "id": "XjzjEj4R1UAf",
    "outputId": "a129928b-95dd-45cd-bb98-1ee4502da37f"
   },
   "outputs": [
    {
     "name": "stdout",
     "output_type": "stream",
     "text": [
      "\n",
      "=== CatBoost Model ===\n",
      "CatBoost best params: {'depth': 6, 'iterations': 200, 'learning_rate': 0.1}\n",
      "CatBoost training completed\n"
     ]
    }
   ],
   "source": [
    "# catboost model\n",
    "print(\"\\n=== CatBoost Model ===\")\n",
    "\n",
    "# Lightweight parameter search\n",
    "tscv = TimeSeriesSplit(n_splits=2)\n",
    "catboost_params = {\n",
    "    'iterations': [100, 200],\n",
    "    'depth': [4, 6],\n",
    "    'learning_rate': [0.05, 0.1]\n",
    "}\n",
    "\n",
    "cb = CatBoostRegressor(random_state=42, verbose=False)\n",
    "grid_cb = GridSearchCV(cb, catboost_params, cv=tscv, scoring='neg_mean_absolute_error', n_jobs=-1)\n",
    "grid_cb.fit(X_train, y_train)\n",
    "\n",
    "best_catboost = grid_cb.best_estimator_\n",
    "print(f\"CatBoost best params: {grid_cb.best_params_}\")\n",
    "print(\"CatBoost training completed\")\n"
   ]
  },
  {
   "cell_type": "code",
   "execution_count": 13,
   "metadata": {
    "colab": {
     "base_uri": "https://localhost:8080/"
    },
    "executionInfo": {
     "elapsed": 388,
     "status": "ok",
     "timestamp": 1748888646102,
     "user": {
      "displayName": "V L",
      "userId": "06129047709976680873"
     },
     "user_tz": -180
    },
    "id": "Ksy9Rpcu1UAi",
    "outputId": "19723772-357e-4138-9543-f96759caea92"
   },
   "outputs": [
    {
     "name": "stdout",
     "output_type": "stream",
     "text": [
      "\n",
      "============================================================\n",
      "MCC AGGREGATES FORECASTING REPORT: CATBOOST\n",
      "============================================================\n",
      "\n",
      "OVERALL PERFORMANCE:\n",
      "Metric          Value          \n",
      "------------------------------\n",
      "sMAPE_w         48.2336        \n",
      "RMSSE_w         0.5136         \n",
      "MAE             71.3287        \n",
      "RMSE            117.4321       \n",
      "\n",
      "PER-CATEGORY PERFORMANCE:\n",
      "Category       sMAPE_w     RMSSE_w     MAE         RMSE        \n",
      "---------------------------------------------------------------\n",
      "food           44.9578     0.5253      82.2198     120.0990    \n",
      "retail         44.9307     0.4291      61.8586     98.1098     \n",
      "services       47.8982     0.6092      74.2266     139.2803    \n",
      "specialty      49.8053     0.2566      38.5581     58.6763     \n",
      "transport      55.0005     0.6334      91.3880     144.8089    \n",
      "\n",
      "============================================================\n",
      "\n"
     ]
    }
   ],
   "source": [
    "# catboost evaluation\n",
    "y_pred_cb = best_catboost.predict(X_test)\n",
    "test_categories = test_df['category'].values\n",
    "y_train_for_rmsse = np.concatenate(train_df.groupby(['client_id', 'category'])['amount'].apply(lambda x: x.values).tolist())\n",
    "\n",
    "cb_metrics, cb_report = evaluate_and_report_mcc(\n",
    "    'CatBoost',\n",
    "    y_test.values,\n",
    "    y_pred_cb,\n",
    "    y_train_for_rmsse,\n",
    "    test_categories,\n",
    "    print_report=True\n",
    ")\n"
   ]
  },
  {
   "cell_type": "code",
   "execution_count": 14,
   "metadata": {
    "colab": {
     "base_uri": "https://localhost:8080/"
    },
    "executionInfo": {
     "elapsed": 903,
     "status": "ok",
     "timestamp": 1748888647024,
     "user": {
      "displayName": "V L",
      "userId": "06129047709976680873"
     },
     "user_tz": -180
    },
    "id": "OKO8ro9w1UAj",
    "outputId": "7187713d-7574-43c1-e9e8-66474d9ac4a8"
   },
   "outputs": [
    {
     "name": "stdout",
     "output_type": "stream",
     "text": [
      "\n",
      "=== CatBoost Per-Category Results ===\n",
      "food            | MAE:    82.22 | RMSE:   120.10 | sMAPE:  44.96% | RMSSE: 0.7527 | n=117203\n",
      "retail          | MAE:    61.86 | RMSE:    98.11 | sMAPE:  44.93% | RMSSE: 0.8079 | n=100439\n",
      "services        | MAE:    74.23 | RMSE:   139.28 | sMAPE:  47.90% | RMSSE: 0.9822 | n=78508\n",
      "specialty       | MAE:    38.56 | RMSE:    58.68 | sMAPE:  49.81% | RMSSE: 0.7717 | n=73533\n",
      "transport       | MAE:    91.39 | RMSE:   144.81 | sMAPE:  55.00% | RMSSE: 0.8174 | n=92572\n"
     ]
    }
   ],
   "source": [
    "# per-category metrics\n",
    "print(\"\\n=== CatBoost Per-Category Results ===\")\n",
    "categories = sorted(test_df['category'].unique())\n",
    "category_metrics = {}\n",
    "\n",
    "for cat in categories:\n",
    "    mask = test_df['category'] == cat\n",
    "    if mask.sum() > 0:\n",
    "        y_true_cat = y_test[mask].values\n",
    "        y_pred_cat = y_pred_cb[mask]\n",
    "\n",
    "        # Get training data for this category for RMSSE\n",
    "        train_cat_mask = train_df['category'] == cat\n",
    "        y_train_cat = train_df[train_cat_mask]['amount'].values\n",
    "\n",
    "        # Calculate metrics\n",
    "        mae = np.mean(np.abs(y_true_cat - y_pred_cat))\n",
    "        rmse = np.sqrt(np.mean((y_true_cat - y_pred_cat)**2))\n",
    "        smape = 100 * np.mean(2 * np.abs(y_pred_cat - y_true_cat) / (np.abs(y_true_cat) + np.abs(y_pred_cat) + 1e-8))\n",
    "\n",
    "        # RMSSE\n",
    "        if len(y_train_cat) > 1:\n",
    "            naive_error = np.mean(np.abs(np.diff(y_train_cat)))\n",
    "            rmsse = rmse / (naive_error + 1e-8)\n",
    "        else:\n",
    "            rmsse = np.nan\n",
    "\n",
    "        category_metrics[cat] = {\n",
    "            'MAE': mae,\n",
    "            'RMSE': rmse,\n",
    "            'sMAPE': smape,\n",
    "            'RMSSE': rmsse,\n",
    "            'n_samples': int(mask.sum())\n",
    "        }\n",
    "\n",
    "        print(f\"{cat:15} | MAE: {mae:8.2f} | RMSE: {rmse:8.2f} | sMAPE: {smape:6.2f}% | RMSSE: {rmsse:6.4f} | n={mask.sum()}\")\n"
   ]
  },
  {
   "cell_type": "code",
   "execution_count": 15,
   "metadata": {
    "colab": {
     "base_uri": "https://localhost:8080/"
    },
    "executionInfo": {
     "elapsed": 16,
     "status": "ok",
     "timestamp": 1748888647047,
     "user": {
      "displayName": "V L",
      "userId": "06129047709976680873"
     },
     "user_tz": -180
    },
    "id": "A26SuoD01UAz",
    "outputId": "3fb56967-3c44-4212-f019-7fefb6497109"
   },
   "outputs": [
    {
     "name": "stdout",
     "output_type": "stream",
     "text": [
      "\n",
      "Results saved to /content/drive/MyDrive/fcst//MCC Aggregates Forecasting/ML models/ml_models_results.json\n",
      "\n",
      "=== ML MODEL SUMMARY ===\n",
      "Environment: colab\n",
      "CatBoost Overall sMAPE: 48.23%\n",
      "CatBoost Overall RMSSE: 0.5136\n",
      "ML model evaluation completed!\n"
     ]
    }
   ],
   "source": [
    "# save results\n",
    "results = {\n",
    "    'timestamp': datetime.now().isoformat(),\n",
    "    'environment': environment,\n",
    "    'train_size': len(X_train),\n",
    "    'test_size': len(X_test),\n",
    "    'n_features': len(feature_cols),\n",
    "    'models': {\n",
    "        'CatBoost': {\n",
    "            'params': best_catboost.get_params(),\n",
    "            'metrics': cb_metrics,\n",
    "            'cv_score': -grid_cb.best_score_,\n",
    "            'category_metrics': category_metrics\n",
    "        }\n",
    "    }\n",
    "}\n",
    "\n",
    "output_file = f'{base_path}/MCC Aggregates Forecasting/ML models/ml_models_results.json'\n",
    "with open(output_file, 'w') as f:\n",
    "    json.dump(results, f, indent=2)\n",
    "\n",
    "print(f\"\\nResults saved to {output_file}\")\n",
    "\n",
    "print(\"\\n=== ML MODEL SUMMARY ===\")\n",
    "print(f\"Environment: {environment}\")\n",
    "print(f\"CatBoost Overall sMAPE: {cb_metrics['sMAPE_w']:.2f}%\")\n",
    "print(f\"CatBoost Overall RMSSE: {cb_metrics['RMSSE_w']:.4f}\")\n",
    "print(\"ML model evaluation completed!\")"
   ]
  }
 ],
 "metadata": {
  "colab": {
   "machine_shape": "hm",
   "provenance": []
  },
  "kernelspec": {
   "display_name": "Python 3",
   "name": "python3"
  },
  "language_info": {
   "codemirror_mode": {
    "name": "ipython",
    "version": 3
   },
   "file_extension": ".py",
   "mimetype": "text/x-python",
   "name": "python",
   "nbconvert_exporter": "python",
   "pygments_lexer": "ipython3",
   "version": "3.11.9"
  }
 },
 "nbformat": 4,
 "nbformat_minor": 0
}
